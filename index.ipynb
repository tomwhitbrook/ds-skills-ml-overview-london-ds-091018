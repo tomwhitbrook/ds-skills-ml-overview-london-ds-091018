{
 "cells": [
  {
   "cell_type": "markdown",
   "metadata": {},
   "source": [
    "# Zooming Out: An Overview of Machine Learning\n",
    "\n",
    "Let's take a minute to zoom out and return to the larger picture of machine learning. To date, we've explored two major categories of supervised learning: regression and classification. Regression attempts to predict a continuous numerical value while classification attempts to predict a categorical value that has some limited number of values to take on.\n",
    "\n",
    "From here, we're about to venture into unsupervised learning. Unsupervised learning is trying to find structure in our data and tell us something new about it, or view it from another perspective. At a high level, this can be broken into two main subcategories: clustering techniques, used to sort data into homogenous groups, and dimensionality reduction techniques which are useful for compression and visualization. \n",
    "\n",
    "Here's this as a diagram: \n",
    "\n",
    "<img src=\"ml3.png\" width=800>  \n",
    "\n",
    "          \n",
    "While outside the scope of this course, there are an even wider range of machine learning algorithms. For example, here's another infographic regarding machine learning:\n",
    "<img src=\"ml.png\" width=1000>  \n",
    "Take a look at more details here:  \n",
    "  \n",
    "http://www.researchinfinitesolutions.com/blog/Machine-learning-Algorithms  \n",
    "Another useful diagram, which also demonstrates how much there is to learn, is this cheat-sheet from SciKitLearn:\n",
    "\n",
    "<img src=\"ml_map.png\" width=1200>\n",
    "http://scikit-learn.org/stable/tutorial/machine_learning_map/index.html\n"
   ]
  },
  {
   "cell_type": "markdown",
   "metadata": {},
   "source": [
    "As you can see, the world of data science and machine learning is vast! There's always more to learn and investigate. With that, take some time to investigate the links above and do a little more research regarding the topic of machine learning, what techniques are used, and what problems it can solve."
   ]
  }
 ],
 "metadata": {
  "kernelspec": {
   "display_name": "Python 3",
   "language": "python",
   "name": "python3"
  },
  "language_info": {
   "codemirror_mode": {
    "name": "ipython",
    "version": 3
   },
   "file_extension": ".py",
   "mimetype": "text/x-python",
   "name": "python",
   "nbconvert_exporter": "python",
   "pygments_lexer": "ipython3",
   "version": "3.6.6"
  }
 },
 "nbformat": 4,
 "nbformat_minor": 2
}
